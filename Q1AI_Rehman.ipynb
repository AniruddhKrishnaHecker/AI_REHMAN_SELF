{
  "cells": [
    {
      "cell_type": "code",
      "execution_count": null,
      "metadata": {
        "id": "HGFJ1pQsP8VN"
      },
      "outputs": [],
      "source": []
    },
    {
      "cell_type": "markdown",
      "metadata": {
        "id": "aVmsGWUFd-tP"
      },
      "source": [
        "# Setup"
      ]
    },
    {
      "cell_type": "code",
      "execution_count": 1,
      "metadata": {
        "colab": {
          "base_uri": "https://localhost:8080/"
        },
        "id": "VMJ4av3_YGjM",
        "outputId": "6f665849-7b0f-418a-8bc0-f089e07605bd"
      },
      "outputs": [
        {
          "ename": "ModuleNotFoundError",
          "evalue": "No module named 'google'",
          "output_type": "error",
          "traceback": [
            "\u001b[1;31m---------------------------------------------------------------------------\u001b[0m",
            "\u001b[1;31mModuleNotFoundError\u001b[0m                       Traceback (most recent call last)",
            "Cell \u001b[1;32mIn[1], line 1\u001b[0m\n\u001b[1;32m----> 1\u001b[0m \u001b[38;5;28;01mfrom\u001b[39;00m \u001b[38;5;21;01mgoogle\u001b[39;00m\u001b[38;5;21;01m.\u001b[39;00m\u001b[38;5;21;01mcolab\u001b[39;00m \u001b[38;5;28;01mimport\u001b[39;00m drive\n\u001b[0;32m      2\u001b[0m drive\u001b[38;5;241m.\u001b[39mmount(\u001b[38;5;124m'\u001b[39m\u001b[38;5;124m/content/drive\u001b[39m\u001b[38;5;124m'\u001b[39m)\n",
            "\u001b[1;31mModuleNotFoundError\u001b[0m: No module named 'google'"
          ]
        }
      ],
      "source": [
        "from google.colab import drive\n",
        "drive.mount('/content/drive')"
      ]
    },
    {
      "cell_type": "code",
      "execution_count": null,
      "metadata": {
        "id": "hUT0FSfTbvoc"
      },
      "outputs": [],
      "source": [
        "from IPython.display import clear_output\n",
        "\n",
        "!pip3 install pyprind\n",
        "\n",
        "clear_output()"
      ]
    },
    {
      "cell_type": "markdown",
      "metadata": {
        "id": "q3APxWObeA_c"
      },
      "source": [
        "# Instructions\n",
        "\n",
        "* Clone the notebook to your drive.\n",
        "* The notebook has to be submitted in the form of a link giving us **view access**. Share this link in your application.\n",
        "\n",
        "* If you still have any queries, you can reach out to the [core team](https://www.notion.so/Club-Contacts-70a4823e0ae34f35a0aa5d479e449915)\n",
        "\n"
      ]
    },
    {
      "cell_type": "markdown",
      "metadata": {
        "id": "h0ojuzzfedsb"
      },
      "source": [
        "# Common Technical Questionnaire\n"
      ]
    },
    {
      "cell_type": "markdown",
      "metadata": {
        "id": "IFnXRXAWVSkZ"
      },
      "source": [
        "### Question 1\n",
        "\n",
        "Supervised learning is a type of machine learning where the inputs and outputs are mapped through\n",
        "a family of equations, the machine learning model essentially picks the right curve to fit the data.\n",
        "Quantile Regression is a type of supervised learning technique used in statistics and economics. One\n",
        "advantage of quantile regression relative to ordinary least squares regression is that the quantile\n",
        "regression estimates are more robust against outliers in the response measurements.\n",
        "\n",
        "QuantileLossτ (y, ˆy) =\n",
        "{\n",
        "\n",
        "                           τ · (y − ˆy) if y > ˆy\n",
        "\n",
        "                          (1 − τ ) · (ˆy − y) if y ≤ ˆy\n",
        "}\n",
        "\n",
        "where τ is Quantile whose value lies between 0 and 1.\n",
        "Please use this template provided and make changes accordingly for this question alone.\n",
        "Implement a simple Neural Network consisting of 4 nodes, one hidden layer consisting of 5 nodes\n",
        "and output layer consisting of two nodes. Perform quantile regression on the model and observe\n",
        "the loss.\n",
        "**Bonus: Play around with the value of τ to find what value achieves convergence quicker.**\n",
        "\n"
      ]
    },
    {
      "cell_type": "markdown",
      "metadata": {
        "id": "7bKBykeUZtMq"
      },
      "source": [
        "An example implementation of a simple manual neural network is provided. You may use this as inspiration to complete the task at hand."
      ]
    },
    {
      "cell_type": "code",
      "execution_count": null,
      "metadata": {
        "id": "y5YhkW3jE58O"
      },
      "outputs": [],
      "source": [
        "# Imports\n",
        "\n",
        "import torch\n",
        "import torch.nn as nn\n"
      ]
    },
    {
      "cell_type": "code",
      "execution_count": null,
      "metadata": {
        "colab": {
          "base_uri": "https://localhost:8080/"
        },
        "id": "XnVdvfk-Zsyr",
        "outputId": "c24fb86b-b213-4e5d-c6a1-71e9e715615c"
      },
      "outputs": [
        {
          "name": "stdout",
          "output_type": "stream",
          "text": [
            "First gradient descent 2.8450026512145996\n",
            "Second gradient descent 2.791003704071045\n",
            "Third gradient descent 2.7376251220703125\n"
          ]
        }
      ],
      "source": [
        "# Initializing the Parameters and the Variables\n",
        "# y = a*x + b\n",
        "\n",
        "x = torch.rand((2, 4), requires_grad=False)\n",
        "y = torch.rand((2, 2), requires_grad=False)\n",
        "\n",
        "a0 = torch.rand((4, 5), requires_grad=True)     #For the hidden layer\n",
        "b0 = torch.rand((2, 5), requires_grad=True)\n",
        "\n",
        "a1 = torch.rand((5, 2), requires_grad=True)     #For the output layer.    Fill in the dimensions appropriately\n",
        "b1 = torch.rand((2, 2), requires_grad=True)\n",
        "ReLU=nn.ReLU()\n",
        "# Forward Pass 1\n",
        "y_1 = x@a0+ b0\n",
        "y_pred1=y_1@a1+b1\n",
        "z1=ReLU(y_pred1)                                    #Fill in the matrix multiplication equation\n",
        "\n",
        "tau=0.2\n",
        "def loss_function(z, y):\n",
        "    e = y - z\n",
        "    return torch.max((tau - 1) * e, tau * e).mean()\n",
        "\n",
        "# Computing Loss\n",
        "loss = loss_function(z1, y)\n",
        "print('First gradient descent',loss.item())\n",
        "\n",
        "# Back Propogation\n",
        "loss.backward()\n",
        "\n",
        "# Updating Gradients\n",
        "with torch.no_grad():\n",
        "    a0 -= 0.01 * a0.grad\n",
        "    b0 -= 0.01 * b0.grad\n",
        "    a1 -= 0.01 * a1.grad\n",
        "    b1 -= 0.01 * b1.grad\n",
        "\n",
        "    # Zeroing out gradients for the next iteration\n",
        "    a0.grad.zero_()\n",
        "    b0.grad.zero_()\n",
        "    a1.grad.zero_()\n",
        "    b1.grad.zero_()\n",
        "\n",
        "# Forward Pass 2\n",
        "y_2 = x@a0+ b0\n",
        "y_pred2= y_2@a1+b1                                      #Fill in the matrix multiplication equation\n",
        "z2=ReLU(y_pred2)\n",
        "# Computing Loss\n",
        "loss = loss_function(z2, y)\n",
        "print('Second gradient descent',loss.item())\n",
        "\n",
        "loss.backward()\n",
        "\n",
        "# Updating Gradients\n",
        "with torch.no_grad():\n",
        "    a0 -= 0.01 * a0.grad\n",
        "    b0 -= 0.01 * b0.grad\n",
        "    a1 -= 0.01 * a1.grad\n",
        "    b1 -= 0.01 * b1.grad\n",
        "\n",
        "    a0.grad.zero_()\n",
        "    b0.grad.zero_()\n",
        "    a1.grad.zero_()\n",
        "    b1.grad.zero_()\n",
        "\n",
        "# Forward Pass 3\n",
        "y_3 =  x@a0+ b0                      #Fill in the matrix multiplication equation\n",
        "y_pred3=y_3@a1+b1\n",
        "z3=ReLU(y_pred3)\n",
        "# Computing Loss\n",
        "loss = loss_function(z3, y)\n",
        "print('Third gradient descent',loss.item())"
      ]
    },
    {
      "cell_type": "code",
      "execution_count": null,
      "metadata": {
        "colab": {
          "base_uri": "https://localhost:8080/",
          "height": 489
        },
        "id": "lSh5KlnL7-rI",
        "outputId": "7f3deb40-8dc9-4016-df09-06ee5e7f1299"
      },
      "outputs": [
        {
          "data": {
            "image/png": "[encoded data removed]",
            "text/plain": [
              "<Figure size 640x480 with 1 Axes>"
            ]
          },
          "metadata": {},
          "output_type": "display_data"
        },
        {
          "name": "stdout",
          "output_type": "stream",
          "text": [
            "Optimum value of tau is 0.6\n"
          ]
        }
      ],
      "source": [
        "# The above cell caters to the first part of the question.\n",
        "#This cell aims to attempt the bonus part. So the best quantile value will be where the convergence rate will be highest,\n",
        "#because this shows that the loss function decreases very rapidly at that point. We dont need tau such that the loss is the lowest,\n",
        "#we need a tau that can adapt very fast even though loss is high, because quantile regression is all about predicting the range in which the value falls.\n",
        "#Even though chances of going out of the range is high, but due to high convergence rate it can learn faster.\n",
        "import torch\n",
        "import torch.nn as nn\n",
        "import matplotlib.pyplot as plt\n",
        "\n",
        "# Initialize the Parameters and the Variables\n",
        "# y = a*x + b\n",
        "x = torch.rand((2, 4), requires_grad=False)\n",
        "y = torch.rand((2, 2), requires_grad=False)\n",
        "\n",
        "a0 = torch.rand((4, 5), requires_grad=True)  # For the hidden layer\n",
        "b0 = torch.rand((2, 5), requires_grad=True)\n",
        "\n",
        "a1 = torch.rand((5, 2), requires_grad=True)  # For the output layer\n",
        "b1 = torch.rand((2, 2), requires_grad=True)\n",
        "ReLU = nn.ReLU()\n",
        "quantile = [tau * 0.02 for tau in range(1, 50)]\n",
        "\n",
        "# Initialize lists to store convergence rates and loss values\n",
        "convergence_rates = []\n",
        "\n",
        "# Define loss function\n",
        "def loss_function(preds, target, tau):\n",
        "    errors = target - preds\n",
        "    loss = torch.max((tau - 1) * errors, tau * errors)\n",
        "    return torch.abs(loss).mean()\n",
        "\n",
        "\n",
        "for tau in quantile:\n",
        "\n",
        "    num_iter = 500\n",
        "    lossprev = 1\n",
        "\n",
        "    convergence_rate_t = []  #list for stroing each acquired value for convergence rate.\n",
        "\n",
        "    # Iterate within a quantile value:\n",
        "    for i in range(num_iter):\n",
        "        # Forward Pass\n",
        "        y_int = torch.relu(x @ a0 + b0)\n",
        "        y_pred = y_int @ a1 + b1\n",
        "\n",
        "        # Compute Loss\n",
        "        loss = loss_function(y_pred, y, tau)\n",
        "\n",
        "        # Find value of convergence rate on the basis of loss obtained\n",
        "        if i > 1:\n",
        "            convergence = (loss - lossprev) / lossprev\n",
        "        lossprev = loss\n",
        "\n",
        "        # Backpropagation\n",
        "        loss.backward()\n",
        "\n",
        "        # Update gradients\n",
        "        with torch.no_grad():\n",
        "            a0 -= 0.01 * a0.grad\n",
        "            b0 -= 0.01 * b0.grad\n",
        "            a1 -= 0.01 * a1.grad\n",
        "            b1 -= 0.01 * b1.grad\n",
        "\n",
        "\n",
        "            a0.grad.zero_()\n",
        "            b0.grad.zero_()\n",
        "            a1.grad.zero_()\n",
        "            b1.grad.zero_()\n",
        "\n",
        "    convergence_rate_t.append(convergence)\n",
        "    convergence_rates.append(convergence)\n",
        "\n",
        "# Plot the Convergence Rate vs. tau\n",
        "plt.plot(quantile, [c.detach().numpy() for c in convergence_rates], label='Convergence Rate')\n",
        "plt.xlabel('Value of quantile')\n",
        "plt.ylabel('Convergence Rate')\n",
        "plt.title('Convergence Rate vs Value of Quantile')\n",
        "plt.grid(True)\n",
        "plt.legend()\n",
        "plt.show()\n",
        "optimum = quantile[convergence_rates.index(max(convergence_rates))]\n",
        "print('Optimum value of tau is',optimum)\n",
        "\n"
      ]
    },
    {
      "cell_type": "markdown",
      "metadata": {
        "id": "izhl-9Wta_uu"
      },
      "source": [
        "---"
      ]
    }
  ],
  "metadata": {
    "colab": {
      "provenance": []
    },
    "kernelspec": {
      "display_name": "Python 3",
      "name": "python3"
    },
    "language_info": {
      "codemirror_mode": {
        "name": "ipython",
        "version": 3
      },
      "file_extension": ".py",
      "mimetype": "text/x-python",
      "name": "python",
      "nbconvert_exporter": "python",
      "pygments_lexer": "ipython3",
      "version": "3.12.2"
    }
  },
  "nbformat": 4,
  "nbformat_minor": 0
}
